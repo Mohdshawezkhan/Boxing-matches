{
 "cells": [
  {
   "cell_type": "markdown",
   "metadata": {},
   "source": [
    "_Importing neccesary libraries_"
   ]
  },
  {
   "cell_type": "code",
   "execution_count": 8,
   "metadata": {},
   "outputs": [],
   "source": [
    "import pandas as pd \n",
    "import numpy as np\n",
    "from sklearn import model_selection\n",
    "from sklearn.metrics import accuracy_score,confusion_matrix\n",
    "from sklearn.model_selection import train_test_split\n",
    "import tensorflow as tf\n",
    "from tensorflow import keras\n",
    "from tensorflow.keras import Sequential \n",
    "from tensorflow.keras.layers import Dense\n",
    "import matplotlib.pyplot as plt\n",
    "from tensorflow.keras.losses import SparseCategoricalCrossentropy\n",
    "from sklearn.metrics import mean_squared_error \n"
   ]
  },
  {
   "cell_type": "markdown",
   "metadata": {},
   "source": [
    "_Coping Data_"
   ]
  },
  {
   "cell_type": "code",
   "execution_count": 9,
   "metadata": {},
   "outputs": [],
   "source": [
    "data_matches=pd.read_csv('boxing_matches.csv')\n",
    "c_data=data_matches.copy()\n"
   ]
  },
  {
   "cell_type": "markdown",
   "metadata": {},
   "source": [
    "# Exploratory data analysis "
   ]
  },
  {
   "cell_type": "code",
   "execution_count": 10,
   "metadata": {},
   "outputs": [
    {
     "name": "stdout",
     "output_type": "stream",
     "text": [
      "<class 'pandas.core.frame.DataFrame'>\n",
      "RangeIndex: 387427 entries, 0 to 387426\n",
      "Data columns (total 26 columns):\n",
      " #   Column    Non-Null Count   Dtype  \n",
      "---  ------    --------------   -----  \n",
      " 0   age_A     352888 non-null  float64\n",
      " 1   age_B     257935 non-null  float64\n",
      " 2   height_A  249246 non-null  float64\n",
      " 3   height_B  134640 non-null  float64\n",
      " 4   reach_A   112342 non-null  float64\n",
      " 5   reach_B   37873 non-null   float64\n",
      " 6   stance_A  231009 non-null  object \n",
      " 7   stance_B  231009 non-null  object \n",
      " 8   weight_A  135573 non-null  float64\n",
      " 9   weight_B  130358 non-null  float64\n",
      " 10  won_A     387427 non-null  int64  \n",
      " 11  won_B     387427 non-null  int64  \n",
      " 12  lost_A    387427 non-null  int64  \n",
      " 13  lost_B    387427 non-null  int64  \n",
      " 14  drawn_A   387427 non-null  int64  \n",
      " 15  drawn_B   387427 non-null  int64  \n",
      " 16  kos_A     387427 non-null  int64  \n",
      " 17  kos_B     387348 non-null  float64\n",
      " 18  result    387427 non-null  object \n",
      " 19  decision  387427 non-null  object \n",
      " 20  judge1_A  52248 non-null   float64\n",
      " 21  judge1_B  52060 non-null   float64\n",
      " 22  judge2_A  70371 non-null   float64\n",
      " 23  judge2_B  70032 non-null   float64\n",
      " 24  judge3_A  61231 non-null   float64\n",
      " 25  judge3_B  61023 non-null   float64\n",
      "dtypes: float64(15), int64(7), object(4)\n",
      "memory usage: 76.9+ MB\n"
     ]
    },
    {
     "data": {
      "text/plain": [
       "age_A        31067\n",
       "age_B       117927\n",
       "height_A    126527\n",
       "height_B    232588\n",
       "reach_A     253598\n",
       "reach_B     322025\n",
       "stance_A    144784\n",
       "stance_B    144784\n",
       "weight_A    230961\n",
       "weight_B    235737\n",
       "won_A            0\n",
       "won_B            0\n",
       "lost_A           0\n",
       "lost_B           0\n",
       "drawn_A          0\n",
       "drawn_B          0\n",
       "kos_A            0\n",
       "kos_B           77\n",
       "result           0\n",
       "decision         0\n",
       "judge1_A    307696\n",
       "judge1_B    307870\n",
       "judge2_A    290913\n",
       "judge2_B    291220\n",
       "judge3_A    299462\n",
       "judge3_B    299646\n",
       "dtype: int64"
      ]
     },
     "execution_count": 10,
     "metadata": {},
     "output_type": "execute_result"
    }
   ],
   "source": [
    "\n",
    "data_matches.info()\n",
    "\n",
    "pd.set_option('display.max_columns',500)\n",
    "c_data.describe()\n",
    "c_data.describe(include='O')\n",
    "c_data.drop_duplicates(keep='first',inplace=True)\n",
    "c_data.isnull().sum()\n",
    "\n",
    "#c_data['kos_B'].value_counts()\n",
    "#c_data['kos_A'].value_counts()\n",
    "\n"
   ]
  },
  {
   "cell_type": "markdown",
   "metadata": {},
   "source": [
    "# Data Preprocessing"
   ]
  },
  {
   "cell_type": "code",
   "execution_count": 11,
   "metadata": {},
   "outputs": [
    {
     "name": "stdout",
     "output_type": "stream",
     "text": [
      "<class 'pandas.core.frame.DataFrame'>\n",
      "Index: 356740 entries, 0 to 387426\n",
      "Data columns (total 19 columns):\n",
      " #   Column    Non-Null Count   Dtype  \n",
      "---  ------    --------------   -----  \n",
      " 0   age_A     356740 non-null  float64\n",
      " 1   age_B     356740 non-null  float64\n",
      " 2   height_A  356740 non-null  float64\n",
      " 3   height_B  356740 non-null  float64\n",
      " 4   reach_A   356740 non-null  float64\n",
      " 5   reach_B   356740 non-null  float64\n",
      " 6   stance_A  356740 non-null  object \n",
      " 7   stance_B  356740 non-null  object \n",
      " 8   weight_A  356740 non-null  float64\n",
      " 9   weight_B  356740 non-null  float64\n",
      " 10  won_A     356740 non-null  int64  \n",
      " 11  won_B     356740 non-null  int64  \n",
      " 12  lost_A    356740 non-null  int64  \n",
      " 13  lost_B    356740 non-null  int64  \n",
      " 14  drawn_A   356740 non-null  int64  \n",
      " 15  drawn_B   356740 non-null  int64  \n",
      " 16  kos_A     356740 non-null  int64  \n",
      " 17  kos_B     356740 non-null  float64\n",
      " 18  result    356740 non-null  object \n",
      "dtypes: float64(9), int64(7), object(3)\n",
      "memory usage: 54.4+ MB\n"
     ]
    }
   ],
   "source": [
    "#Removing unnecessary independent variables\n",
    "c_data.drop(['decision','judge1_A','judge1_B','judge2_A','judge2_B','judge3_A','judge3_B'],axis=1,inplace=True)\n",
    "\n",
    "c_imputed=c_data.apply(lambda x:x.fillna(x.median()) if x.dtype=='float' else x.fillna(x.value_counts().index[0]))\n",
    "\n",
    "c_imputed['kos_B'].astype(int)\n",
    "c_imputed.isnull().sum()\n",
    "c_imputed.info()\n",
    "\n",
    "# c_imputed['stance_A'].astype('category')\n",
    "# c_imputed['stance_B'].astype('category')\n"
   ]
  },
  {
   "cell_type": "code",
   "execution_count": 12,
   "metadata": {},
   "outputs": [
    {
     "data": {
      "text/plain": [
       "age_A       0\n",
       "age_B       0\n",
       "height_A    0\n",
       "height_B    0\n",
       "reach_A     0\n",
       "reach_B     0\n",
       "stance_A    0\n",
       "stance_B    0\n",
       "weight_A    0\n",
       "weight_B    0\n",
       "won_A       0\n",
       "won_B       0\n",
       "lost_A      0\n",
       "lost_B      0\n",
       "drawn_A     0\n",
       "drawn_B     0\n",
       "kos_A       0\n",
       "kos_B       0\n",
       "result      0\n",
       "dtype: int64"
      ]
     },
     "execution_count": 12,
     "metadata": {},
     "output_type": "execute_result"
    }
   ],
   "source": [
    "c_imputed.isnull().sum()"
   ]
  },
  {
   "cell_type": "code",
   "execution_count": 13,
   "metadata": {},
   "outputs": [],
   "source": [
    "\n",
    "\n",
    "c_imputed['stance_A']=c_imputed['stance_A'].map({'orthodox':1,'southpaw':0})\n",
    "c_imputed['stance_B']=c_imputed['stance_B'].map({'orthodox':1,'southpaw':0})\n",
    "c_imputed['result']=c_imputed['result'].map({'win_A':1,'win_B':2,'draw':0})\n",
    "c_imputed_new=pd.get_dummies(c_imputed,drop_first=True)\n",
    "\n",
    "\n",
    "cols=list(c_imputed_new.columns)\n",
    "features=list(set(cols)-set(c_imputed_new['result']))\n",
    "y=c_imputed_new['result']\n",
    "x=c_imputed_new[features]\n",
    "\n",
    "x_train,x_,y_train,y_=train_test_split(x,y,test_size=0.4,random_state=0)\n",
    "x_cv,x_test,y_cv,y_test=train_test_split(x_,y_,test_size=0.5,random_state=0)\n"
   ]
  },
  {
   "cell_type": "code",
   "execution_count": 14,
   "metadata": {},
   "outputs": [
    {
     "name": "stdout",
     "output_type": "stream",
     "text": [
      "Size of test_dataset is(214044, 19)\n",
      "Size of test_dataset is(71348, 19)\n",
      "Size of test_dataset is(71348, 19)\n"
     ]
    }
   ],
   "source": [
    "print(f\"Size of test_dataset is{x_train.shape}\")\n",
    "print(f\"Size of test_dataset is{x_cv.shape}\")\n",
    "print(f\"Size of test_dataset is{x_test.shape}\")\n",
    "del x_,y_"
   ]
  },
  {
   "cell_type": "code",
   "execution_count": 15,
   "metadata": {},
   "outputs": [
    {
     "name": "stdout",
     "output_type": "stream",
     "text": [
      "0         1\n",
      "1         1\n",
      "2         1\n",
      "3         1\n",
      "4         1\n",
      "         ..\n",
      "387422    1\n",
      "387423    1\n",
      "387424    1\n",
      "387425    1\n",
      "387426    1\n",
      "Name: stance_A, Length: 356740, dtype: int64\n"
     ]
    }
   ],
   "source": [
    "# print(x_train)\n",
    "print(c_imputed_new['stance_A'])"
   ]
  },
  {
   "cell_type": "markdown",
   "metadata": {},
   "source": [
    "# Model_Selection"
   ]
  },
  {
   "cell_type": "markdown",
   "metadata": {},
   "source": [
    "_Model_One : Model_NN_N_"
   ]
  },
  {
   "cell_type": "code",
   "execution_count": 16,
   "metadata": {},
   "outputs": [
    {
     "name": "stdout",
     "output_type": "stream",
     "text": [
      "Epoch 1/10\n",
      "6689/6689 [==============================] - 8s 958us/step - loss: 0.8982\n",
      "Epoch 2/10\n",
      "6689/6689 [==============================] - 6s 970us/step - loss: 0.4359\n",
      "Epoch 3/10\n",
      "6689/6689 [==============================] - 6s 913us/step - loss: 0.2800\n",
      "Epoch 4/10\n",
      "6689/6689 [==============================] - 6s 913us/step - loss: 0.1063\n",
      "Epoch 5/10\n",
      "6689/6689 [==============================] - 6s 923us/step - loss: 0.0195\n",
      "Epoch 6/10\n",
      "6689/6689 [==============================] - 6s 916us/step - loss: 0.0037\n",
      "Epoch 7/10\n",
      "6689/6689 [==============================] - 6s 928us/step - loss: 0.0014\n",
      "Epoch 8/10\n",
      "6689/6689 [==============================] - 7s 1ms/step - loss: 8.9288e-04\n",
      "Epoch 9/10\n",
      "6689/6689 [==============================] - 7s 982us/step - loss: 4.4664e-04\n",
      "Epoch 10/10\n",
      "6689/6689 [==============================] - 7s 1ms/step - loss: 6.7318e-04\n"
     ]
    }
   ],
   "source": [
    "Model_NN_N=Sequential([\n",
    "    Dense(units=25,activation='relu'),\n",
    "    Dense(units=15,activation='relu'),\n",
    "    Dense(units=3,activation='linear')\n",
    "    ])\n",
    "\n",
    "\n",
    "Model_NN_N.compile(optimizer=tf.keras.optimizers.Adam(0.0001),loss=SparseCategoricalCrossentropy(from_logits=True))\n",
    "\n",
    "history_Model_NN_N=Model_NN_N.fit(x_train,y_train,epochs=10)\n"
   ]
  },
  {
   "cell_type": "markdown",
   "metadata": {},
   "source": [
    "_training Dataset_"
   ]
  },
  {
   "cell_type": "code",
   "execution_count": 17,
   "metadata": {},
   "outputs": [
    {
     "name": "stdout",
     "output_type": "stream",
     "text": [
      "6689/6689 [==============================] - 7s 990us/step\n"
     ]
    }
   ],
   "source": [
    "Logit_train=Model_NN_N.predict(x_train)\n",
    "f_x=tf.nn.softmax(Logit_train).numpy()\n",
    "\n",
    "train_res=np.argmax(f_x,axis=1)"
   ]
  },
  {
   "cell_type": "markdown",
   "metadata": {},
   "source": [
    "_cross-validation dataset_"
   ]
  },
  {
   "cell_type": "code",
   "execution_count": 18,
   "metadata": {},
   "outputs": [
    {
     "name": "stdout",
     "output_type": "stream",
     "text": [
      "2230/2230 [==============================] - 2s 950us/step\n"
     ]
    }
   ],
   "source": [
    "Logit_cv=Model_NN_N.predict(x_cv)\n",
    "f_x=tf.nn.softmax(Logit_cv).numpy()\n",
    "\n",
    "cv_res=np.argmax(f_x,axis=1)"
   ]
  },
  {
   "cell_type": "markdown",
   "metadata": {},
   "source": [
    "_test dataset_"
   ]
  },
  {
   "cell_type": "code",
   "execution_count": 19,
   "metadata": {},
   "outputs": [
    {
     "name": "stdout",
     "output_type": "stream",
     "text": [
      "2230/2230 [==============================] - 2s 958us/step\n"
     ]
    }
   ],
   "source": [
    "Logit_test=Model_NN_N.predict(x_test)\n",
    "f_x=tf.nn.softmax(Logit_test).numpy()\n",
    "\n",
    "test_res=np.argmax(f_x,axis=1)\n",
    "\n"
   ]
  },
  {
   "cell_type": "markdown",
   "metadata": {},
   "source": [
    "Evalution Based on accuracy of model"
   ]
  },
  {
   "cell_type": "code",
   "execution_count": 20,
   "metadata": {},
   "outputs": [
    {
     "name": "stdout",
     "output_type": "stream",
     "text": [
      "[1 1 1 ... 1 1 1]\n",
      "0.9999579525704996\n",
      "3\n"
     ]
    }
   ],
   "source": [
    "print(test_res)\n",
    "print(accuracy_score(test_res,y_test))\n",
    "miss_classified=(y_test!=test_res).sum()\n",
    "print(miss_classified)"
   ]
  },
  {
   "cell_type": "markdown",
   "metadata": {},
   "source": [
    "_MSE's on training,dev,testing dataset_"
   ]
  },
  {
   "cell_type": "code",
   "execution_count": 32,
   "metadata": {},
   "outputs": [
    {
     "name": "stdout",
     "output_type": "stream",
     "text": [
      "Trainig Error 1.8687746444656237e-05\n",
      "Cross-validation Error 1.4015809833492179e-05\n",
      "Testing Error 4.204742950047654e-05\n"
     ]
    }
   ],
   "source": [
    "J_train_error_Model_1=mean_squared_error(y_train,train_res)\n",
    "J_cv_error_Model_1=mean_squared_error(y_cv,cv_res)\n",
    "J_test_error_Model_1=mean_squared_error(y_test,test_res)\n",
    "print(f\"Trainig Error { J_train_error_Model_1}\")\n",
    "print(f\"Cross-validation Error {J_cv_error_Model_1}\")\n",
    "print(f\"Testing Error {J_test_error_Model_1}\")\n"
   ]
  },
  {
   "cell_type": "markdown",
   "metadata": {},
   "source": [
    "_Model_Two_"
   ]
  },
  {
   "cell_type": "code",
   "execution_count": 22,
   "metadata": {},
   "outputs": [
    {
     "name": "stdout",
     "output_type": "stream",
     "text": [
      "Epoch 1/10\n"
     ]
    },
    {
     "name": "stdout",
     "output_type": "stream",
     "text": [
      "6689/6689 [==============================] - 8s 1ms/step - loss: 2.3206\n",
      "Epoch 2/10\n",
      "6689/6689 [==============================] - 11s 2ms/step - loss: 0.6768\n",
      "Epoch 3/10\n",
      "6689/6689 [==============================] - 8s 1ms/step - loss: 0.5647\n",
      "Epoch 4/10\n",
      "6689/6689 [==============================] - 7s 1ms/step - loss: 0.5090\n",
      "Epoch 5/10\n",
      "6689/6689 [==============================] - 7s 1ms/step - loss: 0.4631\n",
      "Epoch 6/10\n",
      "6689/6689 [==============================] - 7s 1ms/step - loss: 0.4090\n",
      "Epoch 7/10\n",
      "6689/6689 [==============================] - 7s 1ms/step - loss: 0.3331\n",
      "Epoch 8/10\n",
      "6689/6689 [==============================] - 7s 1ms/step - loss: 0.2297\n",
      "Epoch 9/10\n",
      "6689/6689 [==============================] - 7s 1ms/step - loss: 0.1195\n",
      "Epoch 10/10\n",
      "6689/6689 [==============================] - 7s 1ms/step - loss: 0.0435\n"
     ]
    }
   ],
   "source": [
    "Model_NN=Sequential([\n",
    "    Dense(units=15,activation='relu'),\n",
    "    Dense(units=10,activation='relu'),\n",
    "    Dense(units=3,activation='linear')\n",
    "    ])\n",
    "\n",
    "Model_NN.compile(optimizer=tf.keras.optimizers.Adam(0.0001),loss=SparseCategoricalCrossentropy(from_logits=True),)\n",
    "\n",
    "historyModel_NN=Model_NN.fit(x_train,y_train,epochs=10)"
   ]
  },
  {
   "cell_type": "markdown",
   "metadata": {},
   "source": [
    "_training Dataset_"
   ]
  },
  {
   "cell_type": "code",
   "execution_count": 23,
   "metadata": {},
   "outputs": [
    {
     "name": "stdout",
     "output_type": "stream",
     "text": [
      "6689/6689 [==============================] - 6s 953us/step\n"
     ]
    }
   ],
   "source": [
    "Logit_train_N=Model_NN.predict(x_train)\n",
    "f_x=tf.nn.softmax(Logit_train_N).numpy()\n",
    "\n",
    "train_res_N=np.argmax(f_x,axis=1)"
   ]
  },
  {
   "cell_type": "markdown",
   "metadata": {},
   "source": [
    "_cross-validation dataset_"
   ]
  },
  {
   "cell_type": "code",
   "execution_count": 24,
   "metadata": {},
   "outputs": [
    {
     "name": "stdout",
     "output_type": "stream",
     "text": [
      "2230/2230 [==============================] - 2s 951us/step\n"
     ]
    }
   ],
   "source": [
    "Logit_cv_N=Model_NN.predict(x_cv)\n",
    "f_x=tf.nn.softmax(Logit_cv_N).numpy()\n",
    "\n",
    "cv_res_N=np.argmax(f_x,axis=1)"
   ]
  },
  {
   "cell_type": "markdown",
   "metadata": {},
   "source": [
    "_test dataset_"
   ]
  },
  {
   "cell_type": "code",
   "execution_count": 25,
   "metadata": {},
   "outputs": [
    {
     "name": "stdout",
     "output_type": "stream",
     "text": [
      "2230/2230 [==============================] - 2s 873us/step\n"
     ]
    }
   ],
   "source": [
    "Logit_test_N=Model_NN.predict(x_test)\n",
    "f_x=tf.nn.softmax(Logit_test_N).numpy()\n",
    "\n",
    "test_res_N=np.argmax(f_x,axis=1)\n"
   ]
  },
  {
   "cell_type": "code",
   "execution_count": 29,
   "metadata": {},
   "outputs": [
    {
     "name": "stdout",
     "output_type": "stream",
     "text": [
      "[1 1 1 ... 1 1 1]\n",
      "0.9993412569378258\n",
      "47\n"
     ]
    }
   ],
   "source": [
    "print(test_res_N)\n",
    "print(accuracy_score(test_res_N,y_test))\n",
    "miss_classified=(y_test!=test_res_N).sum()\n",
    "print(miss_classified)"
   ]
  },
  {
   "cell_type": "markdown",
   "metadata": {},
   "source": [
    "_MSE's on training,dev,testing dataset_"
   ]
  },
  {
   "cell_type": "code",
   "execution_count": 31,
   "metadata": {},
   "outputs": [
    {
     "name": "stdout",
     "output_type": "stream",
     "text": [
      "Trainig Error for Model_Two : 0.0006634149987852965\n",
      "Cross-validation Error for Model_Two : 0.0007288221113415933\n",
      "Testing Error for Model_Two : 0.0006587430621741324\n"
     ]
    }
   ],
   "source": [
    "J_train_error_Model_2=mean_squared_error(y_train,train_res_N)\n",
    "J_cv_error_Model_2=mean_squared_error(y_cv,cv_res_N)\n",
    "J_test_error_Model_2=mean_squared_error(y_test,test_res_N)\n",
    "print(f\"Trainig Error for Model_Two : { J_train_error_Model_2}\")\n",
    "print(f\"Cross-validation Error for Model_Two : {J_cv_error_Model_2}\")\n",
    "print(f\"Testing Error for Model_Two : {J_test_error_Model_2}\")\n"
   ]
  },
  {
   "cell_type": "markdown",
   "metadata": {},
   "source": [
    "# Since J_cv_error_Model_1 is smaller,so Model_One is selected as best for our use case"
   ]
  },
  {
   "cell_type": "markdown",
   "metadata": {},
   "source": [
    "comparing Models based on cv set\n"
   ]
  },
  {
   "cell_type": "markdown",
   "metadata": {},
   "source": [
    "# Tyson_fury vs francis_Ngannou Match prediction"
   ]
  },
  {
   "cell_type": "code",
   "execution_count": 28,
   "metadata": {},
   "outputs": [
    {
     "name": "stdout",
     "output_type": "stream",
     "text": [
      "1/1 [==============================] - 0s 8ms/step\n",
      "[[0. 0. 1.]]\n",
      "[2]\n"
     ]
    }
   ],
   "source": [
    "\n",
    "data = {\n",
    "    'age_A': 33,  # Tyson Fury's age\n",
    "    'age_B': 35,  # Francis Ngannou's age\n",
    "    'height_A': 210.82,  # Tyson Fury's height in centimeters (1 foot = 30.48 cm)\n",
    "    'height_B': 193.04,  # Francis Ngannou's height in centimeters (1 foot = 30.48 cm)\n",
    "    'reach_A': 85,  # Tyson Fury's reach in inches\n",
    "    'reach_B': 83,  # Francis Ngannou's reach in inches\n",
    "    'stance_A': 'Orthodox',  # Tyson Fury's fighting stance\n",
    "    'stance_B': 'Orthodox',  # Francis Ngannou's fighting stance\n",
    "    'weight_A': 256,  # Tyson Fury's weight in pounds\n",
    "    'weight_B': 263,  # Francis Ngannou's weight in pounds\n",
    "    'won_A': 30,  # Tyson Fury's number of wins\n",
    "    'won_B': 0,  # Francis Ngannou's number of wins in boxing\n",
    "    'lost_A': 0,  # Tyson Fury's number of losses\n",
    "    'lost_B': 0,  # Francis Ngannou's number of losses in boxing\n",
    "    'drawn_A': 1,  # Tyson Fury's number of draws\n",
    "    'drawn_B': 0,  # Francis Ngannou's number of draws in boxing\n",
    "    'kos_A': 21,  # Tyson Fury's number of knockouts\n",
    "    'kos_B': 0,  # Francis Ngannou's number of knockouts in boxing\n",
    "}\n",
    "\n",
    "X=np.array([0,33,35,210.82,193.04,85,83,1,1,256,263,30,0,0,0,1,0,21,0])\n",
    "\n",
    "X = X.reshape(1, -1)\n",
    "L2=Model_NN_N.predict(X)\n",
    "f_x_m=tf.nn.softmax(L2).numpy()\n",
    "print(f_x_m)\n",
    "res_m=np.argmax(f_x_m,axis=1)\n",
    "print(res_m)\n"
   ]
  }
 ],
 "metadata": {
  "kernelspec": {
   "display_name": "base",
   "language": "python",
   "name": "python3"
  },
  "language_info": {
   "codemirror_mode": {
    "name": "ipython",
    "version": 3
   },
   "file_extension": ".py",
   "mimetype": "text/x-python",
   "name": "python",
   "nbconvert_exporter": "python",
   "pygments_lexer": "ipython3",
   "version": "3.10.9"
  }
 },
 "nbformat": 4,
 "nbformat_minor": 2
}
